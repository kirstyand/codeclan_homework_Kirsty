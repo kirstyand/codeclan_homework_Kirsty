{
 "cells": [
  {
   "cell_type": "code",
   "execution_count": 2,
   "id": "c86ed8f2",
   "metadata": {},
   "outputs": [],
   "source": [
    "#1. Create shopping list!\n",
    "shopping = [\"spam\", \"ham\", \"eggs\", \"ham\"]"
   ]
  },
  {
   "cell_type": "code",
   "execution_count": 4,
   "id": "a80db199",
   "metadata": {},
   "outputs": [
    {
     "data": {
      "text/plain": [
       "'ham'"
      ]
     },
     "execution_count": 4,
     "metadata": {},
     "output_type": "execute_result"
    }
   ],
   "source": [
    "#1.1 Extract the second element of `shopping`\n",
    "\n",
    "shopping[1]"
   ]
  },
  {
   "cell_type": "code",
   "execution_count": 5,
   "id": "6c3559ed",
   "metadata": {},
   "outputs": [
    {
     "data": {
      "text/plain": [
       "['spam', 'ham', 'eggs']"
      ]
     },
     "execution_count": 5,
     "metadata": {},
     "output_type": "execute_result"
    }
   ],
   "source": [
    "#1.2 Extract the 1st:3rd elements of `shopping`\n",
    "\n",
    "shopping[0:3]"
   ]
  },
  {
   "cell_type": "code",
   "execution_count": 6,
   "id": "e68de7c0",
   "metadata": {},
   "outputs": [
    {
     "data": {
      "text/plain": [
       "'ham'"
      ]
     },
     "execution_count": 6,
     "metadata": {},
     "output_type": "execute_result"
    }
   ],
   "source": [
    "#1.3 Extract the last element of `shopping`\n",
    "\n",
    "shopping[-1]"
   ]
  },
  {
   "cell_type": "code",
   "execution_count": 25,
   "id": "8e4299eb",
   "metadata": {},
   "outputs": [],
   "source": [
    "#2 Create train station list\n",
    "\n",
    "stops = [\"Croy\", \"Cumbernauld\", \"Falkirk High\", \"Linlithgow\", \"Livingston\", \"Haymarket\"]"
   ]
  },
  {
   "cell_type": "code",
   "execution_count": 8,
   "id": "10403eba",
   "metadata": {},
   "outputs": [
    {
     "data": {
      "text/plain": [
       "['Croy',\n",
       " 'Cumbernauld',\n",
       " 'Falkirk High',\n",
       " 'Linlithgow',\n",
       " 'Livingston',\n",
       " 'Haymarket',\n",
       " 'Edinburgh Waverley']"
      ]
     },
     "execution_count": 8,
     "metadata": {},
     "output_type": "execute_result"
    }
   ],
   "source": [
    "#2.1 Append `stops` with \"Edinburgh Waverley\" \n",
    "\n",
    "stops.append(\"Edinburgh Waverley\")\n",
    "\n",
    "stops\n"
   ]
  },
  {
   "cell_type": "code",
   "execution_count": 17,
   "id": "0ee97048",
   "metadata": {},
   "outputs": [
    {
     "data": {
      "text/plain": [
       "['Queen Street',\n",
       " 'Croy',\n",
       " 'Cumbernauld',\n",
       " 'Falkirk High',\n",
       " 'Linlithgow',\n",
       " 'Livingston',\n",
       " 'Haymarket',\n",
       " 'Edinburgh Waverley']"
      ]
     },
     "execution_count": 17,
     "metadata": {},
     "output_type": "execute_result"
    }
   ],
   "source": [
    "#2.2 Add \"Queen Street\" to the start of `stops`\n",
    "\n",
    "stops.insert(0, \"Queen Street\")\n",
    "\n",
    "stops\n"
   ]
  },
  {
   "cell_type": "code",
   "execution_count": 19,
   "id": "72077f08",
   "metadata": {},
   "outputs": [
    {
     "data": {
      "text/plain": [
       "1"
      ]
     },
     "execution_count": 19,
     "metadata": {},
     "output_type": "execute_result"
    }
   ],
   "source": [
    "#2.3 Get index for \"Croy\"\n",
    "\n",
    "stops.index(\"Croy\")\n"
   ]
  },
  {
   "cell_type": "code",
   "execution_count": 20,
   "id": "0e2a9693",
   "metadata": {},
   "outputs": [
    {
     "data": {
      "text/plain": [
       "['Queen Street',\n",
       " 'Croy',\n",
       " 'Cumbernauld',\n",
       " 'Falkirk High',\n",
       " 'Polmont',\n",
       " 'Linlithgow',\n",
       " 'Livingston',\n",
       " 'Haymarket',\n",
       " 'Edinburgh Waverley']"
      ]
     },
     "execution_count": 20,
     "metadata": {},
     "output_type": "execute_result"
    }
   ],
   "source": [
    "#2.4 Add \"Polmont\"\n",
    "\n",
    "stops.insert(4, \"Polmont\")\n",
    "\n",
    "stops"
   ]
  },
  {
   "cell_type": "code",
   "execution_count": 21,
   "id": "e1835767",
   "metadata": {},
   "outputs": [
    {
     "data": {
      "text/plain": [
       "['Queen Street',\n",
       " 'Croy',\n",
       " 'Cumbernauld',\n",
       " 'Falkirk High',\n",
       " 'Polmont',\n",
       " 'Linlithgow',\n",
       " 'Livingston',\n",
       " 'Edinburgh Waverley']"
      ]
     },
     "execution_count": 21,
     "metadata": {},
     "output_type": "execute_result"
    }
   ],
   "source": [
    "#2.5 Remove \"Haymarket\"\n",
    "\n",
    "stops.remove(\"Haymarket\")\n",
    "\n",
    "stops"
   ]
  },
  {
   "cell_type": "code",
   "execution_count": 26,
   "id": "c0439cc6",
   "metadata": {},
   "outputs": [
    {
     "data": {
      "text/plain": [
       "[]"
      ]
     },
     "execution_count": 26,
     "metadata": {},
     "output_type": "execute_result"
    }
   ],
   "source": [
    "#2.6 Remove all items\n",
    "\n",
    "stops.clear()\n",
    "\n",
    "stops"
   ]
  },
  {
   "cell_type": "code",
   "execution_count": 28,
   "id": "e2eea122",
   "metadata": {},
   "outputs": [],
   "source": [
    "#3. Create `person` dictionary\n",
    "person = {\"name\": \"Steph\", \"age\": 31, \"Instructor\" : True}"
   ]
  },
  {
   "cell_type": "code",
   "execution_count": 30,
   "id": "ac54df77",
   "metadata": {},
   "outputs": [
    {
     "data": {
      "text/plain": [
       "dict_keys(['name', 'age', 'Instructor'])"
      ]
     },
     "execution_count": 30,
     "metadata": {},
     "output_type": "execute_result"
    }
   ],
   "source": [
    "#3.1 Return keys, values, items\n",
    "person.keys()"
   ]
  },
  {
   "cell_type": "code",
   "execution_count": 31,
   "id": "75cf2935",
   "metadata": {},
   "outputs": [
    {
     "data": {
      "text/plain": [
       "dict_values(['Steph', 31, True])"
      ]
     },
     "execution_count": 31,
     "metadata": {},
     "output_type": "execute_result"
    }
   ],
   "source": [
    "person.values()"
   ]
  },
  {
   "cell_type": "code",
   "execution_count": 32,
   "id": "f85ea0a4",
   "metadata": {},
   "outputs": [
    {
     "data": {
      "text/plain": [
       "dict_items([('name', 'Steph'), ('age', 31), ('Instructor', True)])"
      ]
     },
     "execution_count": 32,
     "metadata": {},
     "output_type": "execute_result"
    }
   ],
   "source": [
    "person.items()"
   ]
  },
  {
   "cell_type": "code",
   "execution_count": 33,
   "id": "5c3b260a",
   "metadata": {},
   "outputs": [
    {
     "data": {
      "text/plain": [
       "{'age': 31, 'Instructor': True}"
      ]
     },
     "execution_count": 33,
     "metadata": {},
     "output_type": "execute_result"
    }
   ],
   "source": [
    "#3.2 Take out `name`\n",
    "person.pop(\"name\")\n",
    "\n",
    "person"
   ]
  },
  {
   "cell_type": "code",
   "execution_count": 34,
   "id": "c0af4654",
   "metadata": {},
   "outputs": [
    {
     "data": {
      "text/plain": [
       "{'age': 31, 'Instructor': True, 'value pair': 'steph@codeclan.com'}"
      ]
     },
     "execution_count": 34,
     "metadata": {},
     "output_type": "execute_result"
    }
   ],
   "source": [
    "#3.3 Add new key\n",
    "person.update({\"value pair\": \"steph@codeclan.com\"})\n",
    "\n",
    "person"
   ]
  },
  {
   "cell_type": "code",
   "execution_count": 35,
   "id": "d38699ac",
   "metadata": {},
   "outputs": [
    {
     "data": {
      "text/plain": [
       "{'age': 31, 'value pair': 'steph@codeclan.com'}"
      ]
     },
     "execution_count": 35,
     "metadata": {},
     "output_type": "execute_result"
    }
   ],
   "source": [
    "#3.4 Delete job description\n",
    "del person[\"Instructor\"]\n",
    "\n",
    "person"
   ]
  },
  {
   "cell_type": "code",
   "execution_count": 2,
   "id": "1be5b748",
   "metadata": {},
   "outputs": [],
   "source": [
    "#4 Create `numbers` list\n",
    "numbers = [1, 6, 2, 2, 7, 1, 6, 13, 99, 7]\n"
   ]
  },
  {
   "cell_type": "code",
   "execution_count": 38,
   "id": "5e2efaa9",
   "metadata": {},
   "outputs": [
    {
     "data": {
      "text/plain": [
       "[6, 2, 2, 6]"
      ]
     },
     "execution_count": 38,
     "metadata": {},
     "output_type": "execute_result"
    }
   ],
   "source": [
    "#4.1 Print even integers\n",
    "even_numbers = []\n",
    "\n",
    "for number in numbers:\n",
    "    if number % 2 == 0:\n",
    "        even_numbers.append(number)\n",
    "\n",
    "even_numbers"
   ]
  },
  {
   "cell_type": "code",
   "execution_count": 43,
   "id": "65dfdf4f",
   "metadata": {},
   "outputs": [
    {
     "name": "stdout",
     "output_type": "stream",
     "text": [
      "98\n"
     ]
    }
   ],
   "source": [
    "#4.2 Print difference between largest and smallest value\n",
    "numbers.sort()\n",
    "print(numbers[-1] - numbers[0])"
   ]
  },
  {
   "cell_type": "code",
   "execution_count": 5,
   "id": "4445fcaf",
   "metadata": {},
   "outputs": [
    {
     "name": "stdout",
     "output_type": "stream",
     "text": [
      "False\n",
      "False\n",
      "True\n",
      "False\n",
      "False\n",
      "False\n",
      "False\n",
      "False\n",
      "False\n"
     ]
    }
   ],
   "source": [
    "#4.3 Print true if the list contains a 2 next to a 2\n",
    "for number in range(len(numbers)-1):\n",
    "    if numbers[number] == numbers[number + 1]:\n",
    "        print(\"True\")\n",
    "    else:\n",
    "        print(\"False\")\n"
   ]
  },
  {
   "cell_type": "code",
   "execution_count": null,
   "id": "7ebfa229",
   "metadata": {},
   "outputs": [],
   "source": [
    "#4.4 Print sum of numbers, ignore 6 -7\n"
   ]
  },
  {
   "cell_type": "code",
   "execution_count": 14,
   "id": "35572214",
   "metadata": {},
   "outputs": [
    {
     "ename": "NameError",
     "evalue": "name 'python_is_fun' is not defined",
     "output_type": "error",
     "traceback": [
      "\u001b[1;31m---------------------------------------------------------------------------\u001b[0m",
      "\u001b[1;31mNameError\u001b[0m                                 Traceback (most recent call last)",
      "Cell \u001b[1;32mIn[14], line 2\u001b[0m\n\u001b[0;32m      1\u001b[0m \u001b[38;5;66;03m#5\u001b[39;00m\n\u001b[1;32m----> 2\u001b[0m \u001b[43mpython_is_fun\u001b[49m \u001b[38;5;241m==\u001b[39m TRUE\n\u001b[0;32m      3\u001b[0m python_is_weird \u001b[38;5;241m==\u001b[39m TRUE\n\u001b[0;32m      5\u001b[0m \u001b[38;5;28;01mif\u001b[39;00m python_is_fun \u001b[38;5;241m==\u001b[39m TRUE \u001b[38;5;129;01mor\u001b[39;00m python_is_weird \u001b[38;5;241m==\u001b[39m TRUE \u001b[38;5;129;01mor\u001b[39;00m (python_is_weird \u001b[38;5;241m==\u001b[39m TRUE \u001b[38;5;129;01mand\u001b[39;00m python_is_fun \u001b[38;5;241m==\u001b[39m TRUE):\n",
      "\u001b[1;31mNameError\u001b[0m: name 'python_is_fun' is not defined"
     ]
    }
   ],
   "source": [
    "#5\n",
    "python_is_fun == TRUE\n",
    "python_is_weird == TRUE\n",
    "\n",
    "if python_is_fun == TRUE or python_is_weird == TRUE or (python_is_weird == TRUE and python_is_fun == TRUE):\n",
    "    print(\"Woo Python!\")\n",
    "else:\n",
    "    print(\"Python is not for me!\")"
   ]
  }
 ],
 "metadata": {
  "kernelspec": {
   "display_name": "Python 3 (ipykernel)",
   "language": "python",
   "name": "python3"
  },
  "language_info": {
   "codemirror_mode": {
    "name": "ipython",
    "version": 3
   },
   "file_extension": ".py",
   "mimetype": "text/x-python",
   "name": "python",
   "nbconvert_exporter": "python",
   "pygments_lexer": "ipython3",
   "version": "3.10.9"
  }
 },
 "nbformat": 4,
 "nbformat_minor": 5
}
