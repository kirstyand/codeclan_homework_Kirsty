{
 "cells": [
  {
   "cell_type": "code",
   "execution_count": 2,
   "id": "5595bab5",
   "metadata": {},
   "outputs": [],
   "source": [
    "#1. Create shopping list!\n",
    "shopping = [\"spam\", \"ham\", \"eggs\", \"ham\"]"
   ]
  },
  {
   "cell_type": "code",
   "execution_count": 4,
   "id": "256ed4db",
   "metadata": {},
   "outputs": [
    {
     "data": {
      "text/plain": [
       "'ham'"
      ]
     },
     "execution_count": 4,
     "metadata": {},
     "output_type": "execute_result"
    }
   ],
   "source": [
    "#1a. Extract the second element of `shopping`\n",
    "\n",
    "shopping[1]"
   ]
  },
  {
   "cell_type": "code",
   "execution_count": 5,
   "id": "e1761259",
   "metadata": {},
   "outputs": [
    {
     "data": {
      "text/plain": [
       "['spam', 'ham', 'eggs']"
      ]
     },
     "execution_count": 5,
     "metadata": {},
     "output_type": "execute_result"
    }
   ],
   "source": [
    "#1b. Extract the 1st:3rd elements of `shopping`\n",
    "\n",
    "shopping[0:3]"
   ]
  },
  {
   "cell_type": "code",
   "execution_count": 6,
   "id": "743ef7e0",
   "metadata": {},
   "outputs": [
    {
     "data": {
      "text/plain": [
       "'ham'"
      ]
     },
     "execution_count": 6,
     "metadata": {},
     "output_type": "execute_result"
    }
   ],
   "source": [
    "#1c. Extract the last element of `shopping`\n",
    "\n",
    "shopping[-1]"
   ]
  },
  {
   "cell_type": "code",
   "execution_count": 7,
   "id": "6b625770",
   "metadata": {},
   "outputs": [],
   "source": [
    "#2. Create train station list\n",
    "\n",
    "stops = [\"Croy\", \"Cumbernauld\", \"Falkirk High\", \"Linlithgow\", \"Livingston\", \"Haymarket\"]"
   ]
  },
  {
   "cell_type": "code",
   "execution_count": 8,
   "id": "0a8e8cbc",
   "metadata": {},
   "outputs": [
    {
     "data": {
      "text/plain": [
       "['Croy',\n",
       " 'Cumbernauld',\n",
       " 'Falkirk High',\n",
       " 'Linlithgow',\n",
       " 'Livingston',\n",
       " 'Haymarket',\n",
       " 'Edinburgh Waverley']"
      ]
     },
     "execution_count": 8,
     "metadata": {},
     "output_type": "execute_result"
    }
   ],
   "source": [
    "#2a. Append `stops` with \"Edinburgh Waverley\" \n",
    "\n",
    "stops.append(\"Edinburgh Waverley\")\n",
    "\n",
    "stops\n"
   ]
  },
  {
   "cell_type": "code",
   "execution_count": 13,
   "id": "58c6d1b6",
   "metadata": {},
   "outputs": [
    {
     "data": {
      "text/plain": [
       "['Queen Street',\n",
       " 'Queen Street',\n",
       " 'Croy',\n",
       " 'Cumbernauld',\n",
       " 'Falkirk High',\n",
       " 'Linlithgow',\n",
       " 'Livingston',\n",
       " 'Haymarket',\n",
       " 'Edinburgh Waverley']"
      ]
     },
     "execution_count": 13,
     "metadata": {},
     "output_type": "execute_result"
    }
   ],
   "source": [
    "#2b. Add \"Queen Street\" to the start of `stops`\n",
    "\n",
    "stops.insert(0, \"Queen Street\")\n",
    "\n",
    "stops\n",
    "stops.remove(\"Queen Street\")\n",
    "stops"
   ]
  },
  {
   "cell_type": "code",
   "execution_count": 14,
   "id": "f617a1de",
   "metadata": {},
   "outputs": [],
   "source": [
    "stops.remove(\"Queen Street\")"
   ]
  },
  {
   "cell_type": "code",
   "execution_count": null,
   "id": "24900363",
   "metadata": {},
   "outputs": [],
   "source": []
  }
 ],
 "metadata": {
  "kernelspec": {
   "display_name": "Python 3 (ipykernel)",
   "language": "python",
   "name": "python3"
  },
  "language_info": {
   "codemirror_mode": {
    "name": "ipython",
    "version": 3
   },
   "file_extension": ".py",
   "mimetype": "text/x-python",
   "name": "python",
   "nbconvert_exporter": "python",
   "pygments_lexer": "ipython3",
   "version": "3.10.9"
  }
 },
 "nbformat": 4,
 "nbformat_minor": 5
}
